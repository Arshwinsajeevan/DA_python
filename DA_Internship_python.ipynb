{
  "nbformat": 4,
  "nbformat_minor": 0,
  "metadata": {
    "colab": {
      "provenance": [],
      "authorship_tag": "ABX9TyOmu7Ranhl+ISP78afEkhla",
      "include_colab_link": true
    },
    "kernelspec": {
      "name": "python3",
      "display_name": "Python 3"
    },
    "language_info": {
      "name": "python"
    }
  },
  "cells": [
    {
      "cell_type": "markdown",
      "metadata": {
        "id": "view-in-github",
        "colab_type": "text"
      },
      "source": [
        "<a href=\"https://colab.research.google.com/github/Arshwinsajeevan/DA_python/blob/main/DA_Internship_python.ipynb\" target=\"_parent\"><img src=\"https://colab.research.google.com/assets/colab-badge.svg\" alt=\"Open In Colab\"/></a>"
      ]
    },
    {
      "cell_type": "code",
      "execution_count": null,
      "metadata": {
        "colab": {
          "base_uri": "https://localhost:8080/"
        },
        "collapsed": true,
        "id": "k2v1JH_ybYyj",
        "outputId": "52e1f344-c98b-4760-da4f-4e58e91969f5"
      },
      "outputs": [
        {
          "output_type": "stream",
          "name": "stdout",
          "text": [
            "1\n",
            "2\n"
          ]
        },
        {
          "output_type": "execute_result",
          "data": {
            "text/plain": [
              "[]"
            ]
          },
          "metadata": {},
          "execution_count": 27
        }
      ],
      "source": [
        "#LIST\n",
        "fruits=[\"Apple\",\"Orange\",\"Mango\"]\n",
        "fruits.append(\"Pineapple\")\n",
        "fruits.sort()\n",
        "#fruits.reverse()\n",
        "fruits.remove(\"Pineapple\")\n",
        "fruits.pop()\n",
        "fruits.insert(0,\"Berry\")\n",
        "a=fruits.index(\"Apple\")\n",
        "print(a)\n",
        "other=[\"Cherrry\",\"Kiwi\"]\n",
        "fruits.extend(other)\n",
        "fruits.append(\"Apple\")\n",
        "b=fruits.count(\"Apple\")\n",
        "print(b)\n",
        "fruits.clear()\n",
        "fruits\n"
      ]
    },
    {
      "cell_type": "code",
      "source": [
        "#STRING\n",
        "txt=\"hey how are you you?\"\n",
        "a=txt.capitalize()\n",
        "print(a)\n",
        "b=txt.count(\"you\")\n",
        "print(b)\n",
        "c=txt.find(\"are\")\n",
        "print(c)\n",
        "d=txt.index(\"are\")#more better than find\n",
        "print(d)\n",
        "e=txt.split()\n",
        "print(e)\n",
        "msg=\"Compant123\"\n",
        "f=msg.isalnum()\n",
        "print(f)\n",
        "g=msg.isalpha()\n",
        "print(g)\n",
        "h=msg.isdigit()\n",
        "print(h)\n",
        "#join\n",
        "demo=[\"Are\",\"you\",\"mad\",\"?\"]\n",
        "i=\":\".join(demo)\n",
        "print(i)\n",
        "j=txt.replace(\"you\",\"we\")\n",
        "print(j)"
      ],
      "metadata": {
        "colab": {
          "base_uri": "https://localhost:8080/"
        },
        "collapsed": true,
        "id": "5Qo-0sC6eEr4",
        "outputId": "485b2e56-607c-49df-9e85-20f0ca43656d"
      },
      "execution_count": null,
      "outputs": [
        {
          "output_type": "stream",
          "name": "stdout",
          "text": [
            "Hey how are you you?\n",
            "2\n",
            "8\n",
            "8\n",
            "['hey', 'how', 'are', 'you', 'you?']\n",
            "True\n",
            "False\n",
            "False\n",
            "Are:you:mad:?\n",
            "hey how are we we?\n"
          ]
        }
      ]
    },
    {
      "cell_type": "code",
      "source": [
        "#LOOPS\n",
        "\n",
        "fruits=[\"Apple\",\"Orange\",\"Mango\"]\n",
        "for i in fruits:\n",
        "  if(i==\"Apple\"):\n",
        "    print(\"Got it\")\n",
        "\n",
        "#WHILE\n",
        "\n",
        "num=1\n",
        "while(num<=10):\n",
        "  print(num)\n",
        "  num+=1"
      ],
      "metadata": {
        "colab": {
          "base_uri": "https://localhost:8080/"
        },
        "collapsed": true,
        "id": "JarW3gkCYX-F",
        "outputId": "965b2957-3a00-4dd4-9dd0-027b3c571d67"
      },
      "execution_count": null,
      "outputs": [
        {
          "output_type": "stream",
          "name": "stdout",
          "text": [
            "Got it\n",
            "1\n",
            "2\n",
            "3\n",
            "4\n",
            "5\n",
            "6\n",
            "7\n",
            "8\n",
            "9\n",
            "10\n"
          ]
        }
      ]
    },
    {
      "cell_type": "code",
      "source": [
        "#FUNCTIONS\n",
        "\n",
        "def sum(x,y):  #with argument\n",
        "  return x-y\n",
        "sum(5,6)\n",
        "\n",
        "#Lambda function\n",
        "add=lambda a,b: print (a+b)\n",
        "add(6,4)\n",
        "\n",
        "#MAP FUNCTION\n",
        "num=[10,20,30]\n",
        "def sq(n):\n",
        "  return n*n\n",
        "\n",
        "res=map(sq,num)\n",
        "print(list(res))\n",
        "\n",
        "#ZIP\n",
        "id=[1,2,3]\n",
        "name=[\"dog\",\"cat\",\"mouse\"]\n",
        "result=zip(id,name)\n",
        "print(list(result))"
      ],
      "metadata": {
        "colab": {
          "base_uri": "https://localhost:8080/"
        },
        "id": "tBIUB1qrd6ln",
        "outputId": "b3c7f5aa-71fb-4e98-840a-5c79f510c3f2",
        "collapsed": true
      },
      "execution_count": null,
      "outputs": [
        {
          "output_type": "stream",
          "name": "stdout",
          "text": [
            "10\n",
            "[100, 400, 900]\n",
            "[(1, 'dog'), (2, 'cat'), (3, 'mouse')]\n"
          ]
        }
      ]
    },
    {
      "cell_type": "code",
      "source": [
        "#TUPLE\n",
        "fruits=(\"apple\",\"mango\",\"kiwi\",\"apple\")  #duplication\n",
        "print(fruits)\n",
        "\n",
        "#count\n",
        "num=(1,2,3,4,5,3)\n",
        "a=num.count(3)\n",
        "print(a)\n",
        "\n",
        "b=num.index(2)\n",
        "print (b)\n",
        "\n",
        "c=max(num)\n",
        "print(c)\n",
        "d=min(num)\n",
        "print(d)"
      ],
      "metadata": {
        "colab": {
          "base_uri": "https://localhost:8080/"
        },
        "collapsed": true,
        "id": "vLf5JHSAVvRS",
        "outputId": "e1d185c8-29c9-4c5e-e573-6fbac730d791"
      },
      "execution_count": 12,
      "outputs": [
        {
          "output_type": "stream",
          "name": "stdout",
          "text": [
            "('apple', 'mango', 'kiwi', 'apple')\n",
            "2\n",
            "1\n",
            "5\n",
            "1\n"
          ]
        }
      ]
    },
    {
      "cell_type": "code",
      "source": [
        "#DICTIONARY\n",
        "car={\"bmw\":\"m5\",\"benz\":\"c class\",\"ford\":\"mustang\"}\n",
        "car.keys()\n",
        "car.values()\n",
        "a=car.items()\n",
        "print(a)\n",
        "\n",
        "#pop\n",
        "b=car.pop(\"bmw\")\n",
        "print(b)\n",
        "\n",
        "#popitem\n",
        "c=car.popitem()\n",
        "print(c)\n",
        "\n",
        "#update\n",
        "car.update({\"color\":\"red\"})\n",
        "print(car)\n",
        "\n",
        "#clear\n",
        "car.clear()\n",
        "print(car)"
      ],
      "metadata": {
        "colab": {
          "base_uri": "https://localhost:8080/"
        },
        "collapsed": true,
        "id": "XPcUae3WXSYY",
        "outputId": "3305201f-e049-4efe-e5d0-7a58e0f1cd77"
      },
      "execution_count": 41,
      "outputs": [
        {
          "output_type": "stream",
          "name": "stdout",
          "text": [
            "dict_items([('bmw', 'm5'), ('benz', 'c class'), ('ford', 'mustang')])\n",
            "m5\n",
            "('ford', 'mustang')\n",
            "{'benz': 'c class', 'color': 'red'}\n",
            "{}\n"
          ]
        }
      ]
    },
    {
      "cell_type": "code",
      "source": [
        "#SET\n",
        "fruits={\"apple\",\"mango\",\"apple\"}\n",
        "fruits.add(\"kiwi\")\n",
        "print(fruits)\n",
        "fruits.pop()\n",
        "print(fruits)\n",
        "fruits.remove(\"kiwi\")\n",
        "print(fruits)\n",
        "\n",
        "#difference\n",
        "a={1,2,3,4}\n",
        "b={3,4,5,6}\n",
        "print(b.difference(a))\n",
        "print(a.intersection(b))\n",
        "print(a.union(b))\n",
        "print(a.update(b))"
      ],
      "metadata": {
        "colab": {
          "base_uri": "https://localhost:8080/"
        },
        "collapsed": true,
        "id": "FmWDhdiocu4-",
        "outputId": "0a7dece1-0d18-4677-f7d2-ddebe17f205e"
      },
      "execution_count": 63,
      "outputs": [
        {
          "output_type": "stream",
          "name": "stdout",
          "text": [
            "{'mango', 'apple', 'kiwi'}\n",
            "{'apple', 'kiwi'}\n",
            "{'apple'}\n",
            "{5, 6}\n",
            "{3, 4}\n",
            "{1, 2, 3, 4, 5, 6}\n",
            "None\n"
          ]
        }
      ]
    }
  ]
}